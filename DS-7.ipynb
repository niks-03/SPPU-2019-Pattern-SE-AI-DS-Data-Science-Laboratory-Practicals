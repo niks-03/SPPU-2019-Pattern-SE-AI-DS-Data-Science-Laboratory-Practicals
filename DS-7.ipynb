{
 "cells": [
  {
   "cell_type": "markdown",
   "id": "96a64511",
   "metadata": {},
   "source": [
    "**7) Text Analytics**\n",
    "1. Extract Sample document and apply following document preprocessing methods: Tokenization, POS Tagging, stop words removal, Stemming and Lemmatization.\n",
    "2. Create representation of documents by calculating Term Frequency and Inverse DocumentFrequency."
   ]
  },
  {
   "cell_type": "code",
   "execution_count": 1,
   "id": "dec06d1a",
   "metadata": {},
   "outputs": [],
   "source": [
    "import nltk\n",
    "import re\n",
    "from nltk.tokenize import word_tokenize\n",
    "from nltk import pos_tag\n",
    "from nltk.corpus import stopwords\n",
    "from nltk.stem import PorterStemmer,WordNetLemmatizer"
   ]
  },
  {
   "cell_type": "code",
   "execution_count": 2,
   "id": "53e17c06",
   "metadata": {},
   "outputs": [],
   "source": [
    "text = \"I am a student.hello!! there is a session going onn.\""
   ]
  },
  {
   "cell_type": "code",
   "execution_count": 3,
   "id": "969cadc2",
   "metadata": {},
   "outputs": [],
   "source": [
    "def preprocess_text(text):\n",
    "    if text:\n",
    "        text = text.lower()\n",
    "        text = re.sub(r'[^\\w\\s]', \" \", text)\n",
    "    return text"
   ]
  },
  {
   "cell_type": "code",
   "execution_count": 4,
   "id": "dbacb2e2",
   "metadata": {},
   "outputs": [
    {
     "data": {
      "text/plain": [
       "'i am a student hello   there is a session going onn '"
      ]
     },
     "execution_count": 4,
     "metadata": {},
     "output_type": "execute_result"
    }
   ],
   "source": [
    "preprocessed_text = preprocess_text(text)\n",
    "preprocessed_text"
   ]
  },
  {
   "cell_type": "code",
   "execution_count": 5,
   "id": "da906eb4",
   "metadata": {},
   "outputs": [],
   "source": [
    "def tokenize(text):\n",
    "    tokens = word_tokenize(text)\n",
    "    return tokens"
   ]
  },
  {
   "cell_type": "code",
   "execution_count": 6,
   "id": "07f1e537",
   "metadata": {},
   "outputs": [
    {
     "name": "stderr",
     "output_type": "stream",
     "text": [
      "[nltk_data] Downloading package punkt to\n",
      "[nltk_data]     C:\\Users\\swapn\\AppData\\Roaming\\nltk_data...\n",
      "[nltk_data]   Package punkt is already up-to-date!\n"
     ]
    },
    {
     "data": {
      "text/plain": [
       "['i',\n",
       " 'am',\n",
       " 'a',\n",
       " 'student',\n",
       " 'hello',\n",
       " 'there',\n",
       " 'is',\n",
       " 'a',\n",
       " 'session',\n",
       " 'going',\n",
       " 'onn']"
      ]
     },
     "execution_count": 6,
     "metadata": {},
     "output_type": "execute_result"
    }
   ],
   "source": [
    "nltk.download('punkt')\n",
    "tokens = tokenize(preprocessed_text)\n",
    "tokens"
   ]
  },
  {
   "cell_type": "code",
   "execution_count": 7,
   "id": "dc79927a",
   "metadata": {},
   "outputs": [],
   "source": [
    "def pos_tagging(tokens):\n",
    "    pos_tags = pos_tag(tokens)\n",
    "    return pos_tags"
   ]
  },
  {
   "cell_type": "code",
   "execution_count": 8,
   "id": "1db78845",
   "metadata": {},
   "outputs": [
    {
     "name": "stderr",
     "output_type": "stream",
     "text": [
      "[nltk_data] Downloading package averaged_perceptron_tagger to\n",
      "[nltk_data]     C:\\Users\\swapn\\AppData\\Roaming\\nltk_data...\n",
      "[nltk_data]   Package averaged_perceptron_tagger is already up-to-\n",
      "[nltk_data]       date!\n"
     ]
    },
    {
     "data": {
      "text/plain": [
       "[('i', 'NN'),\n",
       " ('am', 'VBP'),\n",
       " ('a', 'DT'),\n",
       " ('student', 'NN'),\n",
       " ('hello', 'NN'),\n",
       " ('there', 'EX'),\n",
       " ('is', 'VBZ'),\n",
       " ('a', 'DT'),\n",
       " ('session', 'NN'),\n",
       " ('going', 'VBG'),\n",
       " ('onn', 'NN')]"
      ]
     },
     "execution_count": 8,
     "metadata": {},
     "output_type": "execute_result"
    }
   ],
   "source": [
    "nltk.download('averaged_perceptron_tagger')\n",
    "pos_tags = pos_tagging(tokens)\n",
    "pos_tags"
   ]
  },
  {
   "cell_type": "code",
   "execution_count": 9,
   "id": "886e91c1",
   "metadata": {},
   "outputs": [
    {
     "name": "stderr",
     "output_type": "stream",
     "text": [
      "[nltk_data] Downloading package stopwords to\n",
      "[nltk_data]     C:\\Users\\swapn\\AppData\\Roaming\\nltk_data...\n",
      "[nltk_data]   Package stopwords is already up-to-date!\n"
     ]
    }
   ],
   "source": [
    "nltk.download('stopwords')\n",
    "def remove_stop_words(tokens):\n",
    "    stop_words = stopwords.words('english')\n",
    "    filtered_tokens = [words for words in tokens  if words not in stop_words]\n",
    "    return filtered_tokens"
   ]
  },
  {
   "cell_type": "code",
   "execution_count": 10,
   "id": "bd8320fe",
   "metadata": {},
   "outputs": [
    {
     "data": {
      "text/plain": [
       "['student', 'hello', 'session', 'going', 'onn']"
      ]
     },
     "execution_count": 10,
     "metadata": {},
     "output_type": "execute_result"
    }
   ],
   "source": [
    "filtered_tokens = remove_stop_words(tokens)\n",
    "filtered_tokens"
   ]
  },
  {
   "cell_type": "code",
   "execution_count": 11,
   "id": "a4155368",
   "metadata": {},
   "outputs": [],
   "source": [
    "def stem_tokens(tokens):\n",
    "    stemming = PorterStemmer()\n",
    "    stemmed_tokens = [stemming.stem(word) for word in tokens]\n",
    "    return stemmed_tokens"
   ]
  },
  {
   "cell_type": "code",
   "execution_count": 12,
   "id": "8ff07aa4",
   "metadata": {},
   "outputs": [
    {
     "data": {
      "text/plain": [
       "['student', 'hello', 'session', 'go', 'onn']"
      ]
     },
     "execution_count": 12,
     "metadata": {},
     "output_type": "execute_result"
    }
   ],
   "source": [
    "stemmed_tokens = stem_tokens(filtered_tokens)\n",
    "stemmed_tokens"
   ]
  },
  {
   "cell_type": "code",
   "execution_count": 13,
   "id": "a886b941",
   "metadata": {},
   "outputs": [],
   "source": [
    "def lemmatization(tokens):\n",
    "    lemma = WordNetLemmatizer()\n",
    "    lemmatized_tokens = [lemma.lemmatize(word) for word in tokens]\n",
    "    return lemmatized_tokens"
   ]
  },
  {
   "cell_type": "code",
   "execution_count": 14,
   "id": "dfb1d4ca",
   "metadata": {},
   "outputs": [
    {
     "name": "stderr",
     "output_type": "stream",
     "text": [
      "[nltk_data] Downloading package wordnet to\n",
      "[nltk_data]     C:\\Users\\swapn\\AppData\\Roaming\\nltk_data...\n",
      "[nltk_data]   Package wordnet is already up-to-date!\n"
     ]
    },
    {
     "data": {
      "text/plain": [
       "['student', 'hello', 'session', 'going', 'onn']"
      ]
     },
     "execution_count": 14,
     "metadata": {},
     "output_type": "execute_result"
    }
   ],
   "source": [
    "nltk.download('wordnet')\n",
    "lemmatized_tokens = lemmatization(filtered_tokens)\n",
    "lemmatized_tokens"
   ]
  },
  {
   "cell_type": "code",
   "execution_count": 15,
   "id": "831e0e33",
   "metadata": {},
   "outputs": [],
   "source": [
    "def calculate_term_frequency(tokens):\n",
    "    word_counts = {}\n",
    "    for word in tokens:\n",
    "        word_counts[word] = word_counts.get(word, 0) + 1\n",
    "    total_words = sum(word_counts.values())\n",
    "    term_frequencies = {word: count / total_words for word, count in word_counts.items()}\n",
    "    return term_frequencies"
   ]
  },
  {
   "cell_type": "code",
   "execution_count": 16,
   "id": "ace63114",
   "metadata": {},
   "outputs": [
    {
     "data": {
      "text/plain": [
       "{'student': 0.2, 'hello': 0.2, 'session': 0.2, 'going': 0.2, 'onn': 0.2}"
      ]
     },
     "execution_count": 16,
     "metadata": {},
     "output_type": "execute_result"
    }
   ],
   "source": [
    "calculate_term_frequency(filtered_tokens)"
   ]
  },
  {
   "cell_type": "code",
   "execution_count": 17,
   "id": "892888f5",
   "metadata": {},
   "outputs": [],
   "source": [
    "import math\n",
    "def calculate_document_frequency(tokens):\n",
    "    unique_words = set(tokens)\n",
    "    document_frequencies = {word: 1 for word in unique_words}\n",
    "    return document_frequencies,unique_words\n",
    "\n",
    "def calculate_inverse_document_frequency(tokens):\n",
    "    document_frequencies,unique_words = calculate_document_frequency(tokens)\n",
    "    N = 1  # Assuming we have only one document\n",
    "    inverse_document_frequencies = {word: math.log(N / document_freq) for word, document_freq in document_frequencies.items()}\n",
    "    return inverse_document_frequencies,unique_words"
   ]
  },
  {
   "cell_type": "code",
   "execution_count": 18,
   "id": "3050db17",
   "metadata": {},
   "outputs": [
    {
     "data": {
      "text/plain": [
       "({'hello': 0.0, 'session': 0.0, 'going': 0.0, 'student': 0.0, 'onn': 0.0},\n",
       " {'going', 'hello', 'onn', 'session', 'student'})"
      ]
     },
     "execution_count": 18,
     "metadata": {},
     "output_type": "execute_result"
    }
   ],
   "source": [
    "calculate_inverse_document_frequency(filtered_tokens)"
   ]
  }
 ],
 "metadata": {
  "kernelspec": {
   "display_name": "Python 3 (ipykernel)",
   "language": "python",
   "name": "python3"
  },
  "language_info": {
   "codemirror_mode": {
    "name": "ipython",
    "version": 3
   },
   "file_extension": ".py",
   "mimetype": "text/x-python",
   "name": "python",
   "nbconvert_exporter": "python",
   "pygments_lexer": "ipython3",
   "version": "3.11.5"
  }
 },
 "nbformat": 4,
 "nbformat_minor": 5
}
